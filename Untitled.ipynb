{
 "cells": [
  {
   "cell_type": "code",
   "execution_count": 1,
   "metadata": {},
   "outputs": [],
   "source": [
    "import pandas as pd\n",
    "import numpy as np\n",
    "from matplotlib import pyplot as plt\n",
    "import statsmodels.api as sm\n",
    "import seaborn as sns\n",
    "import re\n",
    "from collections import Counter\n",
    "import scipy.stats as stat\n",
    "import itertools\n",
    "import math"
   ]
  },
  {
   "cell_type": "code",
   "execution_count": 2,
   "metadata": {},
   "outputs": [
    {
     "data": {
      "text/html": [
       "<div>\n",
       "<style scoped>\n",
       "    .dataframe tbody tr th:only-of-type {\n",
       "        vertical-align: middle;\n",
       "    }\n",
       "\n",
       "    .dataframe tbody tr th {\n",
       "        vertical-align: top;\n",
       "    }\n",
       "\n",
       "    .dataframe thead th {\n",
       "        text-align: right;\n",
       "    }\n",
       "</style>\n",
       "<table border=\"1\" class=\"dataframe\">\n",
       "  <thead>\n",
       "    <tr style=\"text-align: right;\">\n",
       "      <th></th>\n",
       "      <th>decade</th>\n",
       "      <th>year</th>\n",
       "      <th>artist</th>\n",
       "      <th>song</th>\n",
       "      <th>lyrics</th>\n",
       "    </tr>\n",
       "  </thead>\n",
       "  <tbody>\n",
       "    <tr>\n",
       "      <th>0</th>\n",
       "      <td>1960</td>\n",
       "      <td>1960</td>\n",
       "      <td>Jim Reeves</td>\n",
       "      <td>He’ll Have To Go</td>\n",
       "      <td>put your sweet lips a little closer to the pho...</td>\n",
       "    </tr>\n",
       "    <tr>\n",
       "      <th>1</th>\n",
       "      <td>1960</td>\n",
       "      <td>1960</td>\n",
       "      <td>Everly Brothers</td>\n",
       "      <td>Cathy’s Clown</td>\n",
       "      <td>don't want your love any more don't want your ...</td>\n",
       "    </tr>\n",
       "    <tr>\n",
       "      <th>2</th>\n",
       "      <td>1960</td>\n",
       "      <td>1960</td>\n",
       "      <td>Elvis Presley</td>\n",
       "      <td>It’s Now Or Never</td>\n",
       "      <td>it's now or never come hold me tight kiss me m...</td>\n",
       "    </tr>\n",
       "    <tr>\n",
       "      <th>3</th>\n",
       "      <td>1960</td>\n",
       "      <td>1960</td>\n",
       "      <td>Elvis Presley</td>\n",
       "      <td>Stuck On You</td>\n",
       "      <td>you can shake an apple off an apple tree shake...</td>\n",
       "    </tr>\n",
       "    <tr>\n",
       "      <th>4</th>\n",
       "      <td>1960</td>\n",
       "      <td>1960</td>\n",
       "      <td>Chubby Checker</td>\n",
       "      <td>The Twist</td>\n",
       "      <td>come on baby let's do the twist come on baby l...</td>\n",
       "    </tr>\n",
       "  </tbody>\n",
       "</table>\n",
       "</div>"
      ],
      "text/plain": [
       "   decade  year           artist               song  \\\n",
       "0    1960  1960       Jim Reeves   He’ll Have To Go   \n",
       "1    1960  1960  Everly Brothers      Cathy’s Clown   \n",
       "2    1960  1960    Elvis Presley  It’s Now Or Never   \n",
       "3    1960  1960    Elvis Presley       Stuck On You   \n",
       "4    1960  1960   Chubby Checker          The Twist   \n",
       "\n",
       "                                              lyrics  \n",
       "0  put your sweet lips a little closer to the pho...  \n",
       "1  don't want your love any more don't want your ...  \n",
       "2  it's now or never come hold me tight kiss me m...  \n",
       "3  you can shake an apple off an apple tree shake...  \n",
       "4  come on baby let's do the twist come on baby l...  "
      ]
     },
     "execution_count": 2,
     "metadata": {},
     "output_type": "execute_result"
    }
   ],
   "source": [
    "data = pd.read_csv(\"clean_lyrics.csv\", index_col = 0)\n",
    "data.head()"
   ]
  },
  {
   "cell_type": "code",
   "execution_count": 3,
   "metadata": {},
   "outputs": [],
   "source": [
    "word_count = [len(data[\"lyrics\"][i].split()) for i in data.index]"
   ]
  },
  {
   "cell_type": "code",
   "execution_count": 5,
   "metadata": {
    "scrolled": true
   },
   "outputs": [],
   "source": [
    "word_count = [i for i in word_count]"
   ]
  },
  {
   "cell_type": "code",
   "execution_count": 7,
   "metadata": {},
   "outputs": [],
   "source": [
    "data[\"word_count\"] = word_count"
   ]
  },
  {
   "cell_type": "code",
   "execution_count": null,
   "metadata": {},
   "outputs": [],
   "source": [
    "data.loc[data.word_count > 400]"
   ]
  },
  {
   "cell_type": "code",
   "execution_count": null,
   "metadata": {},
   "outputs": [],
   "source": [
    "#data = data.drop(1643)"
   ]
  },
  {
   "cell_type": "code",
   "execution_count": null,
   "metadata": {},
   "outputs": [],
   "source": [
    "#data = data.reset_index()"
   ]
  },
  {
   "cell_type": "code",
   "execution_count": 8,
   "metadata": {
    "scrolled": false
   },
   "outputs": [
    {
     "data": {
      "text/plain": [
       "(array([  71.,  895., 1382.,  834.,  490.,  320.,  171.,   71.,   23.,\n",
       "           4.]),\n",
       " array([   8. ,  126.4,  244.8,  363.2,  481.6,  600. ,  718.4,  836.8,\n",
       "         955.2, 1073.6, 1192. ]),\n",
       " <BarContainer object of 10 artists>)"
      ]
     },
     "execution_count": 8,
     "metadata": {},
     "output_type": "execute_result"
    },
    {
     "data": {
      "image/png": "[encoded data removed]",
      "text/plain": [
       "<Figure size 432x288 with 1 Axes>"
      ]
     },
     "metadata": {
      "needs_background": "light"
     },
     "output_type": "display_data"
    }
   ],
   "source": [
    "plt.hist(data[\"word_count\"])"
   ]
  },
  {
   "cell_type": "code",
   "execution_count": 19,
   "metadata": {},
   "outputs": [
    {
     "data": {
      "text/plain": [
       "word_count    181.465193\n",
       "dtype: float64"
      ]
     },
     "execution_count": 19,
     "metadata": {},
     "output_type": "execute_result"
    }
   ],
   "source": [
    "data[[\"word_count\"]].std()"
   ]
  },
  {
   "cell_type": "code",
   "execution_count": 17,
   "metadata": {},
   "outputs": [
    {
     "data": {
      "text/plain": [
       "word_count    385.4567\n",
       "dtype: float64"
      ]
     },
     "execution_count": 17,
     "metadata": {},
     "output_type": "execute_result"
    }
   ],
   "source": [
    "data[[\"word_count\"]].mean()"
   ]
  },
  {
   "cell_type": "code",
   "execution_count": 9,
   "metadata": {},
   "outputs": [],
   "source": [
    "decade_group_var = data.groupby(\"decade\").var()"
   ]
  },
  {
   "cell_type": "code",
   "execution_count": 10,
   "metadata": {},
   "outputs": [
    {
     "data": {
      "image/png": "[encoded data removed]",
      "text/plain": [
       "<Figure size 1080x432 with 2 Axes>"
      ]
     },
     "metadata": {
      "needs_background": "light"
     },
     "output_type": "display_data"
    }
   ],
   "source": [
    "fig, axs = plt.subplots(1, 2, figsize = (15, 6), gridspec_kw={'width_ratios': [3, 1]})\n",
    "[axs[0].hist(data = data.loc[data.decade == i], x = \"word_count\", alpha = 0.3) for i in range(1960, 2020, 10)]\n",
    "axs[0].legend(range(1960, 2020, 10))\n",
    "axs[0].set_title(\"Word Count Distribution By Decade\")\n",
    "decade_group_var = decade_group_var.rename(columns = {\"word_count\" : \"Word Count Variance\"})\n",
    "table = pd.plotting.table(axs[1], data = decade_group_var[[\"Word Count Variance\"]].round(2), \n",
    "                          loc=\"center\", colWidths = [1])\n",
    "table.scale(1, 3)\n",
    "table.set_fontsize(20)\n",
    "axs[1].axis(\"off\")\n",
    "plt.show()"
   ]
  },
  {
   "cell_type": "code",
   "execution_count": 11,
   "metadata": {},
   "outputs": [],
   "source": [
    "decade_group_mean = data.groupby(\"decade\").mean()"
   ]
  },
  {
   "cell_type": "code",
   "execution_count": 12,
   "metadata": {},
   "outputs": [
    {
     "data": {
      "text/html": [
       "<div>\n",
       "<style scoped>\n",
       "    .dataframe tbody tr th:only-of-type {\n",
       "        vertical-align: middle;\n",
       "    }\n",
       "\n",
       "    .dataframe tbody tr th {\n",
       "        vertical-align: top;\n",
       "    }\n",
       "\n",
       "    .dataframe thead th {\n",
       "        text-align: right;\n",
       "    }\n",
       "</style>\n",
       "<table border=\"1\" class=\"dataframe\">\n",
       "  <thead>\n",
       "    <tr style=\"text-align: right;\">\n",
       "      <th></th>\n",
       "      <th>year</th>\n",
       "      <th>word_count</th>\n",
       "    </tr>\n",
       "    <tr>\n",
       "      <th>decade</th>\n",
       "      <th></th>\n",
       "      <th></th>\n",
       "    </tr>\n",
       "  </thead>\n",
       "  <tbody>\n",
       "    <tr>\n",
       "      <th>1960</th>\n",
       "      <td>1965.276353</td>\n",
       "      <td>225.005698</td>\n",
       "    </tr>\n",
       "    <tr>\n",
       "      <th>1970</th>\n",
       "      <td>1974.610465</td>\n",
       "      <td>266.891473</td>\n",
       "    </tr>\n",
       "    <tr>\n",
       "      <th>1980</th>\n",
       "      <td>1984.742515</td>\n",
       "      <td>298.013473</td>\n",
       "    </tr>\n",
       "    <tr>\n",
       "      <th>1990</th>\n",
       "      <td>1994.751538</td>\n",
       "      <td>407.040590</td>\n",
       "    </tr>\n",
       "    <tr>\n",
       "      <th>2000</th>\n",
       "      <td>2004.553236</td>\n",
       "      <td>489.715031</td>\n",
       "    </tr>\n",
       "    <tr>\n",
       "      <th>2010</th>\n",
       "      <td>2014.472251</td>\n",
       "      <td>446.695288</td>\n",
       "    </tr>\n",
       "  </tbody>\n",
       "</table>\n",
       "</div>"
      ],
      "text/plain": [
       "               year  word_count\n",
       "decade                         \n",
       "1960    1965.276353  225.005698\n",
       "1970    1974.610465  266.891473\n",
       "1980    1984.742515  298.013473\n",
       "1990    1994.751538  407.040590\n",
       "2000    2004.553236  489.715031\n",
       "2010    2014.472251  446.695288"
      ]
     },
     "execution_count": 12,
     "metadata": {},
     "output_type": "execute_result"
    }
   ],
   "source": [
    "decade_group_mean"
   ]
  },
  {
   "cell_type": "code",
   "execution_count": 13,
   "metadata": {},
   "outputs": [],
   "source": [
    "ttests = []\n",
    "for decade1 in range(1960, 2020, 10):\n",
    "    ttests.append([np.format_float_scientific(stat.ttest_ind(data.loc[data.decade == decade1, \"word_count\"],\n",
    "                                                             data.loc[data.decade == decade2, \"word_count\"], \n",
    "                                                             equal_var = False)[1], precision = 2)\n",
    "                                              for decade2 in range(1960, 2020, 10)])"
   ]
  },
  {
   "cell_type": "code",
   "execution_count": 14,
   "metadata": {},
   "outputs": [],
   "source": [
    "ttest_array = np.tril(np.array(ttests))\n",
    "for i in range(6):\n",
    "    ttest_array[i, i] = int(float(ttest_array[i, i]))\n",
    "#ttest_array"
   ]
  },
  {
   "cell_type": "code",
   "execution_count": 15,
   "metadata": {},
   "outputs": [
    {
     "data": {
      "image/png": "[encoded data removed]",
      "text/plain": [
       "<Figure size 1080x432 with 1 Axes>"
      ]
     },
     "metadata": {
      "needs_background": "light"
     },
     "output_type": "display_data"
    }
   ],
   "source": [
    "fig, axs = plt.subplots(1, 1, figsize = (15, 6))\n",
    "tab = axs.table(ttest_array, loc = 'center', colLabels = list(range(1960, 2020, 10)), rowLabels = list(range(1960, 2020, 10)))\n",
    "tab.scale(1, 3.5)\n",
    "tab.set_fontsize(15)\n",
    "axs.axis(\"off\")\n",
    "axs.set_title(\"P-Value for Two-Sample t-Test with Unequal Variances by Decade\", size=15)\n",
    "plt.show()"
   ]
  },
  {
   "cell_type": "code",
   "execution_count": null,
   "metadata": {},
   "outputs": [],
   "source": [
    "itertools.combinations(data[\"decade\"].unique(), 2)"
   ]
  },
  {
   "cell_type": "code",
   "execution_count": null,
   "metadata": {},
   "outputs": [],
   "source": [
    "for i in stat.ttest_ind(data.loc[data.decade == 1960, \"word_count\"], \n",
    "                        data.loc[data.decade == 2010, \"word_count\"], equal_var = False):\n",
    "    print(i)"
   ]
  },
  {
   "cell_type": "code",
   "execution_count": null,
   "metadata": {},
   "outputs": [],
   "source": []
  },
  {
   "cell_type": "code",
   "execution_count": null,
   "metadata": {},
   "outputs": [],
   "source": [
    "stat.ranksums(data.loc[data.decade == 2000, \"word_count\"], data.loc[data.decade == 2010, \"word_count\"])"
   ]
  },
  {
   "cell_type": "code",
   "execution_count": null,
   "metadata": {},
   "outputs": [],
   "source": [
    "decade_group = data.groupby(\"decade\")\n",
    "decades = decade_group.groups.keys()\n",
    "num_lyrics = sns.barplot(x = list(decades), y = decade_group.count()[\"lyrics\"], color = (50/255, 116/255, 161/255))\n",
    "num_lyrics.set(xlabel = \"Decade\", ylabel = \"Number of Lyrics\", title = \"Number of Lyrics per Decade\")\n",
    "plt.show()"
   ]
  },
  {
   "cell_type": "code",
   "execution_count": null,
   "metadata": {},
   "outputs": [],
   "source": []
  },
  {
   "cell_type": "code",
   "execution_count": null,
   "metadata": {},
   "outputs": [],
   "source": []
  }
 ],
 "metadata": {
  "kernelspec": {
   "display_name": "Python 3",
   "language": "python",
   "name": "python3"
  },
  "language_info": {
   "codemirror_mode": {
    "name": "ipython",
    "version": 3
   },
   "file_extension": ".py",
   "mimetype": "text/x-python",
   "name": "python",
   "nbconvert_exporter": "python",
   "pygments_lexer": "ipython3",
   "version": "3.7.9"
  }
 },
 "nbformat": 4,
 "nbformat_minor": 2
}
