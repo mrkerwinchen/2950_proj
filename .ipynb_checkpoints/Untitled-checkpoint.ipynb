{
 "cells": [
  {
   "cell_type": "code",
   "execution_count": 74,
   "metadata": {},
   "outputs": [],
   "source": [
    "import pandas as pd\n",
    "import numpy as np\n",
    "from matplotlib import pyplot as plt\n",
    "import statsmodels.api as sm\n",
    "import seaborn as sns\n",
    "import re\n",
    "from collections import Counter\n",
    "import scipy.stats as stat"
   ]
  },
  {
   "cell_type": "code",
   "execution_count": 26,
   "metadata": {},
   "outputs": [
    {
     "data": {
      "text/html": [
       "<div>\n",
       "<style scoped>\n",
       "    .dataframe tbody tr th:only-of-type {\n",
       "        vertical-align: middle;\n",
       "    }\n",
       "\n",
       "    .dataframe tbody tr th {\n",
       "        vertical-align: top;\n",
       "    }\n",
       "\n",
       "    .dataframe thead th {\n",
       "        text-align: right;\n",
       "    }\n",
       "</style>\n",
       "<table border=\"1\" class=\"dataframe\">\n",
       "  <thead>\n",
       "    <tr style=\"text-align: right;\">\n",
       "      <th></th>\n",
       "      <th>decade</th>\n",
       "      <th>year</th>\n",
       "      <th>artist</th>\n",
       "      <th>song</th>\n",
       "      <th>lyrics</th>\n",
       "    </tr>\n",
       "  </thead>\n",
       "  <tbody>\n",
       "    <tr>\n",
       "      <td>0</td>\n",
       "      <td>1960</td>\n",
       "      <td>1960</td>\n",
       "      <td>Jim Reeves</td>\n",
       "      <td>He’ll Have To Go</td>\n",
       "      <td>put your sweet lips a little closer to the pho...</td>\n",
       "    </tr>\n",
       "    <tr>\n",
       "      <td>1</td>\n",
       "      <td>1960</td>\n",
       "      <td>1960</td>\n",
       "      <td>Everly Brothers</td>\n",
       "      <td>Cathy’s Clown</td>\n",
       "      <td>don't want your love any more don't want your ...</td>\n",
       "    </tr>\n",
       "    <tr>\n",
       "      <td>2</td>\n",
       "      <td>1960</td>\n",
       "      <td>1960</td>\n",
       "      <td>Elvis Presley</td>\n",
       "      <td>It’s Now Or Never</td>\n",
       "      <td>it's now or never come hold me tight kiss me m...</td>\n",
       "    </tr>\n",
       "    <tr>\n",
       "      <td>3</td>\n",
       "      <td>1960</td>\n",
       "      <td>1960</td>\n",
       "      <td>Elvis Presley</td>\n",
       "      <td>Stuck On You</td>\n",
       "      <td>you can shake an apple off an apple tree shake...</td>\n",
       "    </tr>\n",
       "    <tr>\n",
       "      <td>4</td>\n",
       "      <td>1960</td>\n",
       "      <td>1960</td>\n",
       "      <td>Chubby Checker</td>\n",
       "      <td>The Twist</td>\n",
       "      <td>come on baby let's do the twist come on baby l...</td>\n",
       "    </tr>\n",
       "  </tbody>\n",
       "</table>\n",
       "</div>"
      ],
      "text/plain": [
       "   decade  year           artist               song  \\\n",
       "0    1960  1960       Jim Reeves   He’ll Have To Go   \n",
       "1    1960  1960  Everly Brothers      Cathy’s Clown   \n",
       "2    1960  1960    Elvis Presley  It’s Now Or Never   \n",
       "3    1960  1960    Elvis Presley       Stuck On You   \n",
       "4    1960  1960   Chubby Checker          The Twist   \n",
       "\n",
       "                                              lyrics  \n",
       "0  put your sweet lips a little closer to the pho...  \n",
       "1  don't want your love any more don't want your ...  \n",
       "2  it's now or never come hold me tight kiss me m...  \n",
       "3  you can shake an apple off an apple tree shake...  \n",
       "4  come on baby let's do the twist come on baby l...  "
      ]
     },
     "execution_count": 26,
     "metadata": {},
     "output_type": "execute_result"
    }
   ],
   "source": [
    "data = pd.read_csv(\"clean_lyrics.csv\", index_col = 0)\n",
    "data.head()"
   ]
  },
  {
   "cell_type": "code",
   "execution_count": 30,
   "metadata": {},
   "outputs": [],
   "source": [
    "word_count = [Counter(data[\"lyrics\"][i].split()) for i in data.index]"
   ]
  },
  {
   "cell_type": "code",
   "execution_count": 31,
   "metadata": {},
   "outputs": [],
   "source": [
    "word_count = [len(i.keys()) for i in word_count]"
   ]
  },
  {
   "cell_type": "code",
   "execution_count": 32,
   "metadata": {},
   "outputs": [],
   "source": [
    "data[\"word_count\"] = word_count"
   ]
  },
  {
   "cell_type": "code",
   "execution_count": 41,
   "metadata": {},
   "outputs": [
    {
     "data": {
      "text/html": [
       "<div>\n",
       "<style scoped>\n",
       "    .dataframe tbody tr th:only-of-type {\n",
       "        vertical-align: middle;\n",
       "    }\n",
       "\n",
       "    .dataframe tbody tr th {\n",
       "        vertical-align: top;\n",
       "    }\n",
       "\n",
       "    .dataframe thead th {\n",
       "        text-align: right;\n",
       "    }\n",
       "</style>\n",
       "<table border=\"1\" class=\"dataframe\">\n",
       "  <thead>\n",
       "    <tr style=\"text-align: right;\">\n",
       "      <th></th>\n",
       "      <th>decade</th>\n",
       "      <th>year</th>\n",
       "      <th>artist</th>\n",
       "      <th>song</th>\n",
       "      <th>lyrics</th>\n",
       "      <th>word_count</th>\n",
       "    </tr>\n",
       "  </thead>\n",
       "  <tbody>\n",
       "    <tr>\n",
       "      <td>1643</td>\n",
       "      <td>1990</td>\n",
       "      <td>1991</td>\n",
       "      <td>DMA</td>\n",
       "      <td>Tom’s Diner</td>\n",
       "      <td>mes bien chers frères mes bien chères sœurs j'...</td>\n",
       "      <td>490</td>\n",
       "    </tr>\n",
       "    <tr>\n",
       "      <td>4105</td>\n",
       "      <td>2010</td>\n",
       "      <td>2018</td>\n",
       "      <td>Migos, Nicki Minaj &amp; Cardi B</td>\n",
       "      <td>MotorSport</td>\n",
       "      <td>yeah woo yeah skrrt m-m-m-murda   motorsport y...</td>\n",
       "      <td>404</td>\n",
       "    </tr>\n",
       "  </tbody>\n",
       "</table>\n",
       "</div>"
      ],
      "text/plain": [
       "      decade  year                        artist         song  \\\n",
       "1643    1990  1991                           DMA  Tom’s Diner   \n",
       "4105    2010  2018  Migos, Nicki Minaj & Cardi B   MotorSport   \n",
       "\n",
       "                                                 lyrics  word_count  \n",
       "1643  mes bien chers frères mes bien chères sœurs j'...         490  \n",
       "4105  yeah woo yeah skrrt m-m-m-murda   motorsport y...         404  "
      ]
     },
     "execution_count": 41,
     "metadata": {},
     "output_type": "execute_result"
    }
   ],
   "source": [
    "data.loc[data.word_count > 400]"
   ]
  },
  {
   "cell_type": "code",
   "execution_count": 56,
   "metadata": {},
   "outputs": [
    {
     "data": {
      "text/plain": [
       "(array([ 11., 110., 390., 206., 115.,  61.,  34.,  18.,   6.,   4.]),\n",
       " array([  4.,  44.,  84., 124., 164., 204., 244., 284., 324., 364., 404.]),\n",
       " <a list of 10 Patch objects>)"
      ]
     },
     "execution_count": 56,
     "metadata": {},
     "output_type": "execute_result"
    },
    {
     "data": {
      "image/png": "[encoded data removed]",
      "text/plain": [
       "<Figure size 432x288 with 1 Axes>"
      ]
     },
     "metadata": {
      "needs_background": "light"
     },
     "output_type": "display_data"
    }
   ],
   "source": [
    "plt.hist(data.loc[data.decade == 2010][\"word_count\"])"
   ]
  },
  {
   "cell_type": "code",
   "execution_count": 69,
   "metadata": {},
   "outputs": [
    {
     "data": {
      "image/png": "[encoded data removed]",
      "text/plain": [
       "<Figure size 432x288 with 1 Axes>"
      ]
     },
     "execution_count": 69,
     "metadata": {},
     "output_type": "execute_result"
    },
    {
     "data": {
      "image/png": "[encoded data removed]",
      "text/plain": [
       "<Figure size 432x288 with 1 Axes>"
      ]
     },
     "metadata": {
      "needs_background": "light"
     },
     "output_type": "display_data"
    }
   ],
   "source": [
    "sm.qqplot(data.loc[data.decade == 2010][\"word_count\"], line ='45', fit = True) "
   ]
  },
  {
   "cell_type": "code",
   "execution_count": null,
   "metadata": {},
   "outputs": [],
   "source": []
  },
  {
   "cell_type": "code",
   "execution_count": 72,
   "metadata": {},
   "outputs": [],
   "source": [
    "decade_group = data.groupby(\"decade\").std()"
   ]
  },
  {
   "cell_type": "code",
   "execution_count": 73,
   "metadata": {},
   "outputs": [
    {
     "data": {
      "text/html": [
       "<div>\n",
       "<style scoped>\n",
       "    .dataframe tbody tr th:only-of-type {\n",
       "        vertical-align: middle;\n",
       "    }\n",
       "\n",
       "    .dataframe tbody tr th {\n",
       "        vertical-align: top;\n",
       "    }\n",
       "\n",
       "    .dataframe thead th {\n",
       "        text-align: right;\n",
       "    }\n",
       "</style>\n",
       "<table border=\"1\" class=\"dataframe\">\n",
       "  <thead>\n",
       "    <tr style=\"text-align: right;\">\n",
       "      <th></th>\n",
       "      <th>year</th>\n",
       "      <th>word_count</th>\n",
       "    </tr>\n",
       "    <tr>\n",
       "      <th>decade</th>\n",
       "      <th></th>\n",
       "      <th></th>\n",
       "    </tr>\n",
       "  </thead>\n",
       "  <tbody>\n",
       "    <tr>\n",
       "      <td>1960</td>\n",
       "      <td>2.714087</td>\n",
       "      <td>36.703942</td>\n",
       "    </tr>\n",
       "    <tr>\n",
       "      <td>1970</td>\n",
       "      <td>2.846460</td>\n",
       "      <td>35.707467</td>\n",
       "    </tr>\n",
       "    <tr>\n",
       "      <td>1980</td>\n",
       "      <td>2.802257</td>\n",
       "      <td>30.027512</td>\n",
       "    </tr>\n",
       "    <tr>\n",
       "      <td>1990</td>\n",
       "      <td>2.836647</td>\n",
       "      <td>64.434528</td>\n",
       "    </tr>\n",
       "    <tr>\n",
       "      <td>2000</td>\n",
       "      <td>2.861262</td>\n",
       "      <td>63.081535</td>\n",
       "    </tr>\n",
       "    <tr>\n",
       "      <td>2010</td>\n",
       "      <td>2.870733</td>\n",
       "      <td>59.157842</td>\n",
       "    </tr>\n",
       "  </tbody>\n",
       "</table>\n",
       "</div>"
      ],
      "text/plain": [
       "            year  word_count\n",
       "decade                      \n",
       "1960    2.714087   36.703942\n",
       "1970    2.846460   35.707467\n",
       "1980    2.802257   30.027512\n",
       "1990    2.836647   64.434528\n",
       "2000    2.861262   63.081535\n",
       "2010    2.870733   59.157842"
      ]
     },
     "execution_count": 73,
     "metadata": {},
     "output_type": "execute_result"
    }
   ],
   "source": [
    "decade_group"
   ]
  },
  {
   "cell_type": "code",
   "execution_count": 3,
   "metadata": {},
   "outputs": [
    {
     "data": {
      "image/png": "[encoded data removed]",
      "text/plain": [
       "<Figure size 432x288 with 1 Axes>"
      ]
     },
     "metadata": {
      "needs_background": "light"
     },
     "output_type": "display_data"
    }
   ],
   "source": [
    "decade_group = data.groupby(\"decade\")\n",
    "decades = decade_group.groups.keys()\n",
    "num_lyrics = sns.barplot(x = list(decades), y = decade_group.count()[\"lyrics\"], color = (50/255, 116/255, 161/255))\n",
    "num_lyrics.set(xlabel = \"Decade\", ylabel = \"Number of Lyrics\", title = \"Number of Lyrics per Decade\")\n",
    "plt.show()"
   ]
  },
  {
   "cell_type": "code",
   "execution_count": null,
   "metadata": {},
   "outputs": [],
   "source": []
  }
 ],
 "metadata": {
  "kernelspec": {
   "display_name": "Python 3",
   "language": "python",
   "name": "python3"
  },
  "language_info": {
   "codemirror_mode": {
    "name": "ipython",
    "version": 3
   },
   "file_extension": ".py",
   "mimetype": "text/x-python",
   "name": "python",
   "nbconvert_exporter": "python",
   "pygments_lexer": "ipython3",
   "version": "3.7.4"
  }
 },
 "nbformat": 4,
 "nbformat_minor": 2
}
